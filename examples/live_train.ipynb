{
 "cells": [
  {
   "cell_type": "code",
   "execution_count": 33,
   "metadata": {
    "collapsed": true
   },
   "outputs": [],
   "source": [
    "import sys\n",
    "import os\n",
    "import inspect\n",
    "currentdir = os.path.dirname(os.path.abspath(\n",
    "    inspect.getfile(inspect.currentframe())))\n",
    "parentdir = os.path.dirname(currentdir)\n",
    "sys.path.insert(0, parentdir)"
   ]
  },
  {
   "cell_type": "code",
   "execution_count": 34,
   "metadata": {
    "collapsed": true
   },
   "outputs": [],
   "source": [
    "from coco.job import Job"
   ]
  },
  {
   "cell_type": "code",
   "execution_count": 35,
   "metadata": {
    "collapsed": false
   },
   "outputs": [],
   "source": [
    "current_job = Job.from_name(\"nyu_depth\")"
   ]
  },
  {
   "cell_type": "code",
   "execution_count": 92,
   "metadata": {
    "collapsed": false,
    "scrolled": false
   },
   "outputs": [
    {
     "name": "stdout",
     "output_type": "stream",
     "text": [
      "state_run\n",
      "phase_train\n",
      "1\n"
     ]
    },
    {
     "data": {
      "image/png": "[encoded data removed]",
      "text/plain": [
       "<matplotlib.figure.Figure at 0x7fb5a774a8d0>"
      ]
     },
     "metadata": {},
     "output_type": "display_data"
    }
   ],
   "source": [
    "%matplotlib inline\n",
    "import matplotlib.pyplot as plt\n",
    "import numpy as np\n",
    "import time\n",
    "\n",
    "# Refresh job\n",
    "current_job.load()\n",
    "data = current_job.data\n",
    "\n",
    "train_losses = np.array(data[\"train_losses\"]).squeeze()\n",
    "\n",
    "\n",
    "print data[\"state\"]\n",
    "print data[\"phase\"]\n",
    "print data[\"epoch\"]\n",
    "\n",
    "plt.plot(train_losses[:])\n",
    "plt.show()\n",
    "\n",
    "if \"val_losses\" in data:\n",
    "    val_losses = np.array(data[\"val_losses\"]).squeeze()\n",
    "    plt.plot(val_losses)\n",
    "    plt.show()\n",
    "\n",
    "    w = 40\n",
    "    l = []\n",
    "    for i in range(0,len(val_losses),w):\n",
    "        l.append((val_losses[i:i+w].mean()))\n",
    "\n",
    "    plt.plot(l)\n",
    "    plt.show()"
   ]
  },
  {
   "cell_type": "markdown",
   "metadata": {
    "collapsed": false
   },
   "source": [
    "from coco.database_reader import HDF5DatabaseReader\n",
    "from coco.multiprocess import MultiProcessor\n",
    "from coco.transformations import zoom_rotate, random_rgb, random_crop, normalize_images, downsample, clip, noise, exp\n",
    "\n",
    "\n",
    "train_db = \"/data/data/nyu_v2.hdf5\"\n",
    "val_db = \"/data/data/test_v2.hdf5\"\n",
    "\n",
    "global mean\n",
    "mean = np.load(\"/data/data/nyu_v2.npy\")\n",
    "\n",
    "def process_train(images, labels):\n",
    "    images = images.astype(np.float32)\n",
    "    labels = labels.astype(np.float32)\n",
    "\n",
    "    assert images.shape[0] == labels.shape[0]\n",
    "\n",
    "    size = (228, 304)\n",
    "    \n",
    "    global mean\n",
    "    images, labels = exp(images, labels)\n",
    "    images, labels = zoom_rotate(images, labels)\n",
    "    images, labels = random_rgb(images, labels)\n",
    "    images, labels = noise(images, labels)\n",
    "    images, labels = clip(images, labels, ic=(0. ,255.))\n",
    "    \n",
    "    # images, labels = normalize_images(images, labels, mean, std=71.571201304890508)\n",
    "    \n",
    "    images, labels = random_crop(images, labels, size)\n",
    "    images, labels = downsample(images, labels, (1, 2))\n",
    "\n",
    "    return images, labels\n",
    "\n",
    "\n",
    "def process_val(images, labels):\n",
    "    images = images.astype(np.float32)\n",
    "    labels = labels.astype(np.float32)\n",
    "\n",
    "    assert images.shape[0] == labels.shape[0]\n",
    "    global mean\n",
    "\n",
    "    size = (228, 304)\n",
    "    # images, labels = normalize_images(images, labels, mean, std=71.571201304890508)\n",
    "    images, labels = random_crop(images, labels, size, deterministic=True)\n",
    "    images, labels = downsample(images, labels, (1, 2))\n",
    "\n",
    "    return images, labels\n",
    "\n",
    "batch_size = 16\n",
    "\n",
    "train_reader = HDF5DatabaseReader(label_key=\"depths\")\n",
    "train_reader.setup_read(train_db)\n",
    "\n",
    "val_reader = HDF5DatabaseReader(label_key=\"depths\")\n",
    "val_reader.setup_read(val_db)\n",
    "\n",
    "train_processor = MultiProcessor(\n",
    "    train_reader, func=process_train, batch_size=batch_size)\n",
    "val_processor = MultiProcessor(\n",
    "    val_reader, func=process_val, batch_size=batch_size)\n",
    "\n",
    "train_processor.start_daemons()\n",
    "\n",
    "d = 0\n",
    "for batch in train_processor.iterate():\n",
    "    i,de = batch\n",
    "    d += 1\n",
    "    if d < 5:\n",
    "        plt.imshow(i[6].transpose((1,2,0)).astype(np.uint8))\n",
    "        plt.show()\n",
    "        plt.imshow(de[6])\n",
    "        plt.show()\n",
    "        break"
   ]
  },
  {
   "cell_type": "code",
   "execution_count": null,
   "metadata": {
    "collapsed": true
   },
   "outputs": [],
   "source": []
  }
 ],
 "metadata": {
  "kernelspec": {
   "display_name": "Python 2",
   "language": "python",
   "name": "python2"
  },
  "language_info": {
   "codemirror_mode": {
    "name": "ipython",
    "version": 2
   },
   "file_extension": ".py",
   "mimetype": "text/x-python",
   "name": "python",
   "nbconvert_exporter": "python",
   "pygments_lexer": "ipython2",
   "version": "2.7.6"
  }
 },
 "nbformat": 4,
 "nbformat_minor": 1
}
