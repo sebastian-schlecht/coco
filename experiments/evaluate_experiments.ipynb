{
 "cells": [
  {
   "cell_type": "markdown",
   "metadata": {},
   "source": [
    "# Notebook to evaluate experimental results"
   ]
  },
  {
   "cell_type": "markdown",
   "metadata": {},
   "source": [
    "To re-run, go to supplementary code and run all cells below."
   ]
  },
  {
   "cell_type": "markdown",
   "metadata": {},
   "source": [
    "## Pre-training"
   ]
  },
  {
   "cell_type": "markdown",
   "metadata": {},
   "source": [
    "### Resunet k=1"
   ]
  },
  {
   "cell_type": "markdown",
   "metadata": {},
   "source": [
    "Setup"
   ]
  },
  {
   "cell_type": "code",
   "execution_count": 12,
   "metadata": {
    "collapsed": true
   },
   "outputs": [],
   "source": [
    "\"\"\"\n",
    "Setup\n",
    "Load mean, pre-processing function, import stuff\n",
    "\"\"\"\n",
    "from coco.architectures.depth import DepthPredictionScaffolder, ResidualDepth\n",
    "from coco.transformations import zoom_rotate, random_rgb, random_crop, normalize_images, downsample, clip, noise, exp, flip_x\n",
    "\n",
    "global mean\n",
    "mean = np.load(\"/data/data/nyu_v2.npy\")\n",
    "def preprocess(images, labels):\n",
    "    images = images.astype(np.float32)\n",
    "    labels = labels.astype(np.float32)\n",
    "\n",
    "    assert images.shape[0] == labels.shape[0]\n",
    "    global mean\n",
    "\n",
    "    size = (228, 304)\n",
    "    images, labels = normalize_images(images, labels, mean, std=71.571201304890508)\n",
    "    images, labels = random_crop(images, labels, size, deterministic=True)\n",
    "    images, labels = downsample(images, labels, (1, 2))\n",
    "\n",
    "    return images, labels"
   ]
  },
  {
   "cell_type": "code",
   "execution_count": 13,
   "metadata": {
    "collapsed": false
   },
   "outputs": [
    {
     "name": "stderr",
     "output_type": "stream",
     "text": [
      "INFO:coco.nn:Number of parameters for output 'None': 46054721\n",
      "INFO:coco.nn:Compiling inference function.\n",
      "INFO:coco.nn:Loading parameters from file '/data/data/resunet_thesis.npz'\n"
     ]
    }
   ],
   "source": [
    "\"\"\"\n",
    "Load network and its weights\n",
    "\"\"\"\n",
    "scaffolder = DepthPredictionScaffolder(ResidualDepth, inference=True, k=1)\n",
    "\n",
    "scaffolder.compile()\n",
    "scaffolder.load(\"/data/data/resunet_thesis.npz\")"
   ]
  },
  {
   "cell_type": "code",
   "execution_count": 31,
   "metadata": {
    "collapsed": false
   },
   "outputs": [],
   "source": [
    "\"\"\"\n",
    "Iterate through the test data and calculate metrics\n",
    "\"\"\"\n",
    "db = \"/data/data/test_v2.hdf5\"\n",
    "f = h5py.File(db)\n",
    "\n",
    "images = np.array(f[\"images\"])\n",
    "depths = np.array(f[\"depths\"])\n",
    "\n",
    "cropped_depths = []\n",
    "predictions = []\n",
    "\n",
    "for index in range(images.shape[0]):\n",
    "    images = images[index][np.newaxis]\n",
    "    depths = depths[index][np.newaxis]\n",
    "    # Pre process\n",
    "    images, depths = preprocess(images, depths)\n",
    "    # Infer\n",
    "    pred = scaffolder.infer(images)[0]\n",
    "    \n",
    "    # Post process\n",
    "    pred = post_process_depth(pred)\n",
    "    \n",
    "    cropped_depths.append(depths)\n",
    "    predictions.append(pred)\n",
    "    \n",
    "    break\n",
    "    \n",
    "gt = np.concatenate(cropped_depths).squeeze()\n",
    "predictions = np.concatenate(predictions).squeeze()"
   ]
  },
  {
   "cell_type": "code",
   "execution_count": 32,
   "metadata": {
    "collapsed": false
   },
   "outputs": [
    {
     "name": "stdout",
     "output_type": "stream",
     "text": [
      "0.424601\n"
     ]
    }
   ],
   "source": [
    "print rmse(predictions, gt)"
   ]
  },
  {
   "cell_type": "markdown",
   "metadata": {},
   "source": [
    "Plot"
   ]
  },
  {
   "cell_type": "code",
   "execution_count": 37,
   "metadata": {
    "collapsed": false
   },
   "outputs": [
    {
     "name": "stdout",
     "output_type": "stream",
     "text": [
      "Train\n"
     ]
    },
    {
     "data": {
      "image/png": "[encoded data removed]",
      "text/plain": [
       "<matplotlib.figure.Figure at 0x7f74280e1650>"
      ]
     },
     "metadata": {},
     "output_type": "display_data"
    },
    {
     "name": "stdout",
     "output_type": "stream",
     "text": [
      "val\n"
     ]
    },
    {
     "data": {
      "image/png": "[encoded data removed]",
      "text/plain": [
       "<matplotlib.figure.Figure at 0x7f73d665ea10>"
      ]
     },
     "metadata": {},
     "output_type": "display_data"
    }
   ],
   "source": [
    "current_job = Job.from_name(\"nyu_depth_thesis\")\n",
    "current_job.load()\n",
    "data = current_job.data\n",
    "\n",
    "kernel_size = 1.\n",
    "\n",
    "n_epochs = 80\n",
    "if \"train_losses\" in data:    \n",
    "    print \"train\"\n",
    "    train_losses = np.array(data[\"train_losses\"]).squeeze()\n",
    "    kernel_size = len(train_losses) / 80\n",
    "    plt.plot(np.convolve(train_losses, np.ones((kernel_size)), mode='valid') / kernel_size)\n",
    "    plt.ylim(0.0, 1.0)\n",
    "    plt.show()\n",
    "\n",
    "if \"val_losses\" in data:\n",
    "    print \"val\"\n",
    "    val_losses = np.array(data[\"val_losses\"]).squeeze()\n",
    "    kernel_size = len(val_losses) / 80\n",
    "    plt.plot(np.convolve(val_losses[:], np.ones((kernel_size)), mode='valid') /  kernel_size)\n",
    "    plt.ylim(0.0, 1.0)\n",
    "    plt.show()\n",
    "    \n"
   ]
  },
  {
   "cell_type": "markdown",
   "metadata": {},
   "source": [
    "### k = 0.5"
   ]
  },
  {
   "cell_type": "code",
   "execution_count": 39,
   "metadata": {
    "collapsed": false
   },
   "outputs": [
    {
     "name": "stderr",
     "output_type": "stream",
     "text": [
      "INFO:coco.nn:Number of parameters for output 'None': 11541505\n",
      "INFO:coco.nn:Compiling inference function.\n",
      "INFO:coco.nn:Loading parameters from file '/data/data/resunet_half_thesis.npz'\n"
     ]
    }
   ],
   "source": [
    "\"\"\"\n",
    "Load network and its weights\n",
    "\"\"\"\n",
    "scaffolder = DepthPredictionScaffolder(ResidualDepth, inference=True, k=0.5)\n",
    "\n",
    "scaffolder.compile()\n",
    "scaffolder.load(\"/data/data/resunet_half_thesis.npz\")"
   ]
  },
  {
   "cell_type": "code",
   "execution_count": 47,
   "metadata": {
    "collapsed": false
   },
   "outputs": [],
   "source": [
    "\"\"\"\n",
    "Iterate through the test data and calculate metrics\n",
    "\"\"\"\n",
    "db = \"/data/data/test_v2.hdf5\"\n",
    "f = h5py.File(db)\n",
    "\n",
    "images = np.array(f[\"images\"])\n",
    "depths = np.array(f[\"depths\"])\n",
    "\n",
    "cropped_depths = []\n",
    "predictions = []\n",
    "\n",
    "for index in range(images.shape[0]):\n",
    "    images = images[index][np.newaxis]\n",
    "    depths = depths[index][np.newaxis]\n",
    "    # Pre process\n",
    "    images, depths = preprocess(images, depths)\n",
    "    # Infer\n",
    "    pred = scaffolder.infer(images)[0]\n",
    "    \n",
    "    # Post process\n",
    "    pred = post_process_depth(pred)\n",
    "    \n",
    "    cropped_depths.append(depths)\n",
    "    predictions.append(pred)\n",
    "    \n",
    "    break\n",
    "\n",
    "gt = np.concatenate(cropped_depths).squeeze()\n",
    "predictions = np.concatenate(predictions).squeeze()"
   ]
  },
  {
   "cell_type": "code",
   "execution_count": 50,
   "metadata": {
    "collapsed": false
   },
   "outputs": [
    {
     "name": "stdout",
     "output_type": "stream",
     "text": [
      "(114, 152)\n",
      "0.466643\n"
     ]
    }
   ],
   "source": [
    "print rmse(predictions, gt)"
   ]
  },
  {
   "cell_type": "markdown",
   "metadata": {},
   "source": [
    "#### Plot "
   ]
  },
  {
   "cell_type": "code",
   "execution_count": 38,
   "metadata": {
    "collapsed": false
   },
   "outputs": [
    {
     "name": "stdout",
     "output_type": "stream",
     "text": [
      "Train\n"
     ]
    },
    {
     "data": {
      "image/png": "[encoded data removed]",
      "text/plain": [
       "<matplotlib.figure.Figure at 0x7f73d930acd0>"
      ]
     },
     "metadata": {},
     "output_type": "display_data"
    },
    {
     "name": "stdout",
     "output_type": "stream",
     "text": [
      "val\n"
     ]
    },
    {
     "data": {
      "image/png": "[encoded data removed]",
      "text/plain": [
       "<matplotlib.figure.Figure at 0x7f73d5b33450>"
      ]
     },
     "metadata": {},
     "output_type": "display_data"
    }
   ],
   "source": [
    "current_job = Job.from_name(\"nyu_depth_half_thesis\")\n",
    "current_job.load()\n",
    "data = current_job.data\n",
    "\n",
    "kernel_size = 1.\n",
    "\n",
    "n_epochs = 80\n",
    "if \"train_losses\" in data:    \n",
    "    print \"train\"\n",
    "    train_losses = np.array(data[\"train_losses\"]).squeeze()\n",
    "    kernel_size = len(train_losses) / 80\n",
    "    plt.plot(np.convolve(train_losses, np.ones((kernel_size)), mode='valid') / kernel_size)\n",
    "    plt.ylim(0.0, 1.0)\n",
    "    plt.show()\n",
    "\n",
    "if \"val_losses\" in data:\n",
    "    print \"val\"\n",
    "    val_losses = np.array(data[\"val_losses\"]).squeeze()\n",
    "    kernel_size = len(val_losses) / 80\n",
    "    plt.plot(np.convolve(val_losses[:], np.ones((kernel_size)), mode='valid') /  kernel_size)\n",
    "    plt.ylim(0.0, 1.0)\n",
    "    plt.show()\n",
    "    "
   ]
  },
  {
   "cell_type": "markdown",
   "metadata": {},
   "source": [
    "## Fine-tuning"
   ]
  },
  {
   "cell_type": "code",
   "execution_count": null,
   "metadata": {
    "collapsed": true
   },
   "outputs": [],
   "source": [
    "folds = [\n",
    "    (\"/data/data/resunet_thesis.npz\", '/ssd/food3d/f3d-rgbd-val.hdf5')\n",
    "]"
   ]
  },
  {
   "cell_type": "code",
   "execution_count": null,
   "metadata": {
    "collapsed": true
   },
   "outputs": [],
   "source": [
    "\"\"\"\n",
    "Load network and its weights\n",
    "\"\"\"\n",
    "global mean\n",
    "mean = np.load(\"/ssd/food3d/f3d-train.npy\")\n",
    "def preprocess(images, labels):\n",
    "    images = images.astype(np.float32)\n",
    "    labels = labels.astype(np.float32)\n",
    "\n",
    "    assert images.shape[0] == labels.shape[0]\n",
    "    global mean\n",
    "\n",
    "    size = (228, 304)\n",
    "    images, labels = normalize_images(images, labels, mean, std=71.571201304890508)\n",
    "    images, labels = random_crop(images, labels, size, deterministic=True)\n",
    "    images, labels = downsample(images, labels, (1, 2))\n",
    "    \n",
    "    # Ommit large values TODO Yes?\n",
    "    labels[labels > 1.2] = 0.\n",
    "\n",
    "    return images, labels\n",
    "\n",
    "\"\"\"\n",
    "Do the prediction for each fold\n",
    "\"\"\"\n",
    "cropped_depths = []\n",
    "predictions = []\n",
    "\n",
    "for model, db  in folds:\n",
    "    print \"Processing fold: %s\" % db\n",
    "    f = h5py.File(db)\n",
    "    scaffolder = DepthPredictionScaffolder(ResidualDepth, inference=True, k=1)\n",
    "    scaffolder.compile()\n",
    "    scaffolder.load(model)\n",
    "    \n",
    "    # Splitting is done by pre-processor\n",
    "    images = np.array(f[\"rgbd\"])\n",
    "    depths = np.array(f[\"rgbd\"])\n",
    "\n",
    "\n",
    "    for index in range(images.shape[0]):\n",
    "        images = images[index][np.newaxis]\n",
    "        depths = depths[index][np.newaxis]\n",
    "        # Pre process\n",
    "        images, depths = preprocess(images, depths)\n",
    "        # Infer\n",
    "        pred = scaffolder.infer(images)[0]\n",
    "\n",
    "        # Post process\n",
    "        pred = post_process_depth(pred)\n",
    "\n",
    "        cropped_depths.append(depths)\n",
    "        predictions.append(pred)\n",
    "\n",
    "        break\n",
    "\n",
    "gt = np.concatenate(cropped_depths).squeeze()\n",
    "predictions = np.concatenate(predictions).squeeze()"
   ]
  },
  {
   "cell_type": "code",
   "execution_count": null,
   "metadata": {
    "collapsed": true
   },
   "outputs": [],
   "source": [
    "print rmse(predictions, gt)"
   ]
  },
  {
   "cell_type": "markdown",
   "metadata": {},
   "source": [
    "# Supplementary code, run this first"
   ]
  },
  {
   "cell_type": "code",
   "execution_count": 15,
   "metadata": {
    "collapsed": true
   },
   "outputs": [],
   "source": [
    "\"\"\"\n",
    "Get coco lib in here\n",
    "\"\"\"\n",
    "import sys\n",
    "import os\n",
    "import inspect\n",
    "import h5py\n",
    "currentdir = os.path.dirname(os.path.abspath(\n",
    "    inspect.getfile(inspect.currentframe())))\n",
    "parentdir = os.path.dirname(currentdir)\n",
    "sys.path.insert(0, parentdir)\n",
    "\n"
   ]
  },
  {
   "cell_type": "code",
   "execution_count": 3,
   "metadata": {
    "collapsed": true
   },
   "outputs": [],
   "source": [
    "from coco.job import Job\n",
    "Job.set_job_dir(\"/data/coco-jobs-relocated\")"
   ]
  },
  {
   "cell_type": "code",
   "execution_count": 6,
   "metadata": {
    "collapsed": false
   },
   "outputs": [],
   "source": [
    "\"\"\"\n",
    "Matplotlib and stuff\n",
    "\"\"\"\n",
    "%matplotlib inline\n",
    "import matplotlib.pyplot as plt\n",
    "import numpy as np\n",
    "import time"
   ]
  },
  {
   "cell_type": "code",
   "execution_count": 21,
   "metadata": {
    "collapsed": true
   },
   "outputs": [],
   "source": [
    "def rmse(prediction, gt):\n",
    "    d = gt - prediction\n",
    "    rmse = np.sqrt((d**2).mean())\n",
    "    return rmse"
   ]
  },
  {
   "cell_type": "code",
   "execution_count": 29,
   "metadata": {
    "collapsed": true
   },
   "outputs": [],
   "source": [
    "def post_process_depth(depth):\n",
    "    upper = np.percentile(depth, 99)\n",
    "    lower = np.percentile(depth, 1)\n",
    "    depth = depth.clip(lower, upper)\n",
    "    return depth"
   ]
  },
  {
   "cell_type": "code",
   "execution_count": null,
   "metadata": {
    "collapsed": true
   },
   "outputs": [],
   "source": []
  }
 ],
 "metadata": {
  "kernelspec": {
   "display_name": "Python 2",
   "language": "python",
   "name": "python2"
  },
  "language_info": {
   "codemirror_mode": {
    "name": "ipython",
    "version": 2
   },
   "file_extension": ".py",
   "mimetype": "text/x-python",
   "name": "python",
   "nbconvert_exporter": "python",
   "pygments_lexer": "ipython2",
   "version": "2.7.6"
  }
 },
 "nbformat": 4,
 "nbformat_minor": 1
}
