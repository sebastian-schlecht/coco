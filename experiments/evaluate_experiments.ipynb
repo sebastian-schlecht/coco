{
 "cells": [
  {
   "cell_type": "markdown",
   "metadata": {},
   "source": [
    "# Notebook to evaluate experimental results"
   ]
  },
  {
   "cell_type": "markdown",
   "metadata": {},
   "source": [
    "To re-run, go to supplementary code and run all cells below."
   ]
  },
  {
   "cell_type": "markdown",
   "metadata": {},
   "source": [
    "## Pre-training"
   ]
  },
  {
   "cell_type": "markdown",
   "metadata": {},
   "source": [
    "### Resunet k=1"
   ]
  },
  {
   "cell_type": "markdown",
   "metadata": {},
   "source": [
    "Setup"
   ]
  },
  {
   "cell_type": "code",
   "execution_count": 37,
   "metadata": {
    "collapsed": false
   },
   "outputs": [],
   "source": [
    "\"\"\"\n",
    "Setup\n",
    "Load mean, pre-processing function, import stuff\n",
    "\"\"\"\n",
    "from coco.architectures.depth import DepthPredictionScaffolder, ResidualDepth\n",
    "from coco.transformations import zoom_rotate, random_rgb, random_crop, normalize_images, downsample, clip, noise, exp, flip_x\n",
    "\n",
    "global mean\n",
    "mean = np.load(\"/data/data/nyu_v2.npy\")\n",
    "def preprocess(images, labels):\n",
    "    images = images.astype(np.float32)\n",
    "    labels = labels.astype(np.float32)\n",
    "\n",
    "    assert images.shape[0] == labels.shape[0]\n",
    "    global mean\n",
    "\n",
    "    size = (228, 304)\n",
    "    images, labels = normalize_images(images, labels, mean, std=71.571201304890508)\n",
    "    images, labels = random_crop(images, labels, size, deterministic=True)\n",
    "    images, labels = downsample(images, labels, (1, 2))\n",
    "\n",
    "    return images, labels"
   ]
  },
  {
   "cell_type": "code",
   "execution_count": 7,
   "metadata": {
    "collapsed": false
   },
   "outputs": [
    {
     "name": "stderr",
     "output_type": "stream",
     "text": [
      "INFO:coco.nn:Number of parameters for output 'None': 46054721\n",
      "INFO:coco.nn:Compiling inference function.\n",
      "INFO:coco.nn:Loading parameters from file '/data/data/resunet_thesis.npz'\n"
     ]
    }
   ],
   "source": [
    "\"\"\"\n",
    "Load network and its weights\n",
    "\"\"\"\n",
    "scaffolder = DepthPredictionScaffolder(ResidualDepth, inference=True, k=1)\n",
    "\n",
    "scaffolder.compile()\n",
    "scaffolder.load(\"/data/data/resunet_thesis.npz\")"
   ]
  },
  {
   "cell_type": "code",
   "execution_count": 34,
   "metadata": {
    "collapsed": false
   },
   "outputs": [],
   "source": [
    "\"\"\"\n",
    "Iterate through the test data and calculate metrics\n",
    "\"\"\"\n",
    "db = \"/data/data/test_v2.hdf5\"\n",
    "f = h5py.File(db)\n",
    "\n",
    "images_orig = np.array(f[\"images\"])\n",
    "depths_orig = np.array(f[\"depths\"])\n",
    "\n",
    "cropped_depths = []\n",
    "predictions = []\n",
    "\n",
    "for index in range(images_orig.shape[0]):\n",
    "    images = images_orig[index][np.newaxis]\n",
    "    depths = depths_orig[index][np.newaxis]\n",
    "    # Pre process\n",
    "    images, depths = preprocess(images, depths)\n",
    "    # Infer\n",
    "    pred = scaffolder.infer(images)[0]\n",
    "    \n",
    "    # Post process\n",
    "    pred = post_process_depth(pred)\n",
    "    \n",
    "    cropped_depths.append(depths)\n",
    "    predictions.append(pred)\n",
    "    \n",
    "gt = np.concatenate(cropped_depths).squeeze()\n",
    "predictions = np.concatenate(predictions).squeeze()"
   ]
  },
  {
   "cell_type": "code",
   "execution_count": 30,
   "metadata": {
    "collapsed": false
   },
   "outputs": [
    {
     "name": "stdout",
     "output_type": "stream",
     "text": [
      "RMSE  0.739724\n"
     ]
    }
   ],
   "source": [
    "calculate_depth_metrics(predictions, gt)"
   ]
  },
  {
   "cell_type": "markdown",
   "metadata": {},
   "source": [
    "Plot"
   ]
  },
  {
   "cell_type": "code",
   "execution_count": 38,
   "metadata": {
    "collapsed": false
   },
   "outputs": [
    {
     "name": "stdout",
     "output_type": "stream",
     "text": [
      "train\n"
     ]
    },
    {
     "data": {
      "image/png": "[encoded data removed]",
      "text/plain": [
       "<matplotlib.figure.Figure at 0x7f2fa393b250>"
      ]
     },
     "metadata": {},
     "output_type": "display_data"
    },
    {
     "name": "stdout",
     "output_type": "stream",
     "text": [
      "val\n"
     ]
    },
    {
     "data": {
      "image/png": "[encoded data removed]",
      "text/plain": [
       "<matplotlib.figure.Figure at 0x7f2f2c3307d0>"
      ]
     },
     "metadata": {},
     "output_type": "display_data"
    }
   ],
   "source": [
    "current_job = Job.from_name(\"nyu_depth_thesis\")\n",
    "current_job.load()\n",
    "data = current_job.data\n",
    "\n",
    "kernel_size = 1.\n",
    "\n",
    "n_epochs = 80\n",
    "if \"train_losses\" in data:    \n",
    "    print \"train\"\n",
    "    train_losses = np.array(data[\"train_losses\"]).squeeze()\n",
    "    kernel_size = 1# len(train_losses) / 80\n",
    "    plt.plot(np.convolve(train_losses, np.ones((kernel_size)), mode='valid') / kernel_size)\n",
    "    plt.ylim(0.0, 1.0)\n",
    "    plt.show()\n",
    "\n",
    "if \"val_losses\" in data:\n",
    "    print \"val\"\n",
    "    val_losses = np.array(data[\"val_losses\"]).squeeze()\n",
    "    kernel_size = 1 #len(val_losses) / 80\n",
    "    plt.plot(np.convolve(val_losses[:], np.ones((kernel_size)), mode='valid') /  kernel_size)\n",
    "    plt.ylim(0.0, 1.0)\n",
    "    plt.show()\n",
    "    \n"
   ]
  },
  {
   "cell_type": "markdown",
   "metadata": {},
   "source": [
    "### k = 0.5"
   ]
  },
  {
   "cell_type": "code",
   "execution_count": 39,
   "metadata": {
    "collapsed": false
   },
   "outputs": [
    {
     "name": "stderr",
     "output_type": "stream",
     "text": [
      "INFO:coco.nn:Number of parameters for output 'None': 11541505\n",
      "INFO:coco.nn:Compiling inference function.\n",
      "INFO:coco.nn:Loading parameters from file '/data/data/resunet_half_thesis.npz'\n"
     ]
    }
   ],
   "source": [
    "\"\"\"\n",
    "Load network and its weights\n",
    "\"\"\"\n",
    "scaffolder = DepthPredictionScaffolder(ResidualDepth, inference=True, k=0.5)\n",
    "\n",
    "scaffolder.compile()\n",
    "scaffolder.load(\"/data/data/resunet_half_thesis.npz\")"
   ]
  },
  {
   "cell_type": "code",
   "execution_count": 45,
   "metadata": {
    "collapsed": false
   },
   "outputs": [],
   "source": [
    "\"\"\"\n",
    "Iterate through the test data and calculate metrics\n",
    "\"\"\"\n",
    "db = \"/data/data/test_v2.hdf5\"\n",
    "f = h5py.File(db)\n",
    "\n",
    "images_orig = np.array(f[\"images\"])\n",
    "depths_orig = np.array(f[\"depths\"])\n",
    "\n",
    "cropped_depths = []\n",
    "predictions = []\n",
    "\n",
    "for index in range(images_orig.shape[0]):\n",
    "    images = images_orig[index][np.newaxis]\n",
    "    depths = depths_orig[index][np.newaxis]\n",
    "    # Pre process\n",
    "    images, depths = preprocess(images, depths)\n",
    "    # Infer\n",
    "    pred = scaffolder.infer(images)[0]\n",
    "    \n",
    "    # Post process\n",
    "    pred = post_process_depth(pred)\n",
    "    \n",
    "    cropped_depths.append(depths)\n",
    "    predictions.append(pred)\n",
    "    \n",
    "gt = np.concatenate(cropped_depths).squeeze()\n",
    "predictions = np.concatenate(predictions).squeeze()"
   ]
  },
  {
   "cell_type": "code",
   "execution_count": 47,
   "metadata": {
    "collapsed": false
   },
   "outputs": [
    {
     "name": "stdout",
     "output_type": "stream",
     "text": [
      "RMSE  0.675034\n"
     ]
    }
   ],
   "source": [
    "calculate_depth_metrics(predictions, gt)"
   ]
  },
  {
   "cell_type": "markdown",
   "metadata": {},
   "source": [
    "#### Plot "
   ]
  },
  {
   "cell_type": "code",
   "execution_count": 48,
   "metadata": {
    "collapsed": false
   },
   "outputs": [
    {
     "name": "stdout",
     "output_type": "stream",
     "text": [
      "train\n"
     ]
    },
    {
     "data": {
      "image/png": "[encoded data removed]",
      "text/plain": [
       "<matplotlib.figure.Figure at 0x7f2f2d87e5d0>"
      ]
     },
     "metadata": {},
     "output_type": "display_data"
    },
    {
     "name": "stdout",
     "output_type": "stream",
     "text": [
      "val\n"
     ]
    },
    {
     "data": {
      "image/png": "[encoded data removed]",
      "text/plain": [
       "<matplotlib.figure.Figure at 0x7f2f4b144550>"
      ]
     },
     "metadata": {},
     "output_type": "display_data"
    }
   ],
   "source": [
    "current_job = Job.from_name(\"nyu_depth_half_thesis\")\n",
    "current_job.load()\n",
    "data = current_job.data\n",
    "\n",
    "kernel_size = 1.\n",
    "\n",
    "n_epochs = 90\n",
    "if \"train_losses\" in data:    \n",
    "    print \"train\"\n",
    "    train_losses = np.array(data[\"train_losses\"]).squeeze()\n",
    "    kernel_size = len(train_losses) / n_epochs\n",
    "    plt.plot(np.convolve(train_losses, np.ones((kernel_size)), mode='valid') / kernel_size)\n",
    "    plt.ylim(0.0, 1.0)\n",
    "    plt.show()\n",
    "\n",
    "if \"val_losses\" in data:\n",
    "    print \"val\"\n",
    "    val_losses = np.array(data[\"val_losses\"]).squeeze()\n",
    "    kernel_size = len(val_losses) / n_epochs\n",
    "    plt.plot(np.convolve(val_losses[:], np.ones((kernel_size)), mode='valid') /  kernel_size)\n",
    "    plt.ylim(0.0, 1.0)\n",
    "    plt.show()\n",
    "    "
   ]
  },
  {
   "cell_type": "markdown",
   "metadata": {},
   "source": [
    "## Fine-tuning"
   ]
  },
  {
   "cell_type": "code",
   "execution_count": 53,
   "metadata": {
    "collapsed": false
   },
   "outputs": [],
   "source": [
    "folds = [\n",
    "    (\"/data/data/resunet_f3d_half_limited_f1_thesis.npz\", '/ssd/food3d/f3d-rgbd-val.hdf5'),\n",
    "    (\"/data/data/resunet_f3d_half_limited_f2_thesis.npz\", '/ssd/food3d/f3d-rgbd-f2-val.hdf5'),\n",
    "    (\"/data/data/resunet_f3d_half_limited_f3_thesis.npz\", '/ssd/food3d/f3d-rgbd-f3-val.hdf5')\n",
    "]"
   ]
  },
  {
   "cell_type": "code",
   "execution_count": 54,
   "metadata": {
    "collapsed": false
   },
   "outputs": [
    {
     "name": "stdout",
     "output_type": "stream",
     "text": [
      "Processing fold: /ssd/food3d/f3d-rgbd-val.hdf5\n"
     ]
    },
    {
     "name": "stderr",
     "output_type": "stream",
     "text": [
      "INFO:coco.nn:Number of parameters for output 'None': 11541505\n",
      "INFO:coco.nn:Compiling inference function.\n",
      "INFO:coco.nn:Loading parameters from file '/data/data/resunet_f3d_half_limited_f1_thesis.npz'\n"
     ]
    },
    {
     "name": "stdout",
     "output_type": "stream",
     "text": [
      "Processing fold: /ssd/food3d/f3d-rgbd-f2-val.hdf5\n"
     ]
    },
    {
     "name": "stderr",
     "output_type": "stream",
     "text": [
      "INFO:coco.nn:Number of parameters for output 'None': 11541505\n",
      "INFO:coco.nn:Compiling inference function.\n",
      "INFO:coco.nn:Loading parameters from file '/data/data/resunet_f3d_half_limited_f2_thesis.npz'\n"
     ]
    },
    {
     "name": "stdout",
     "output_type": "stream",
     "text": [
      "Processing fold: /ssd/food3d/f3d-rgbd-f3-val.hdf5\n"
     ]
    },
    {
     "name": "stderr",
     "output_type": "stream",
     "text": [
      "INFO:coco.nn:Number of parameters for output 'None': 11541505\n",
      "INFO:coco.nn:Compiling inference function.\n",
      "INFO:coco.nn:Loading parameters from file '/data/data/resunet_f3d_half_limited_f3_thesis.npz'\n"
     ]
    }
   ],
   "source": [
    "\"\"\"\n",
    "Load network and its weights\n",
    "\"\"\"\n",
    "global mean\n",
    "mean = np.load(\"/ssd/food3d/f3d-train.npy\")\n",
    "def preprocess(images, labels):\n",
    "    images = images.astype(np.float32)\n",
    "    labels = labels.astype(np.float32)\n",
    "    \n",
    "    # Extract data from combined blob\n",
    "    images = images[:,0:3,:,:]\n",
    "    labels = labels[:,3,:,:]\n",
    "\n",
    "    assert images.shape[0] == labels.shape[0]\n",
    "    global mean\n",
    "\n",
    "    size = (228, 304)\n",
    "    images, labels = normalize_images(images, labels, mean, std=71.571201304890508)\n",
    "    images, labels = random_crop(images, labels, size, deterministic=True)\n",
    "    images, labels = downsample(images, labels, (1, 2))\n",
    "    \n",
    "    # Ommit large values TODO Yes?\n",
    "    labels[labels > 1.2] = 0.\n",
    "\n",
    "    return images, labels\n",
    "\n",
    "\"\"\"\n",
    "Do the prediction for each fold\n",
    "\"\"\"\n",
    "cropped_depths = []\n",
    "predictions = []\n",
    "\n",
    "for model, db  in folds:\n",
    "    print \"Processing fold: %s\" % db\n",
    "    f = h5py.File(db)\n",
    "    scaffolder = DepthPredictionScaffolder(ResidualDepth, inference=True, k=0.5)\n",
    "    scaffolder.compile()\n",
    "    scaffolder.load(model)\n",
    "    \n",
    "    # Splitting is done by pre-processor\n",
    "    images_loaded = np.array(f[\"rgbd\"])\n",
    "    depths_loaded = np.array(f[\"rgbd\"])\n",
    "\n",
    "\n",
    "    for index in range(images_loaded.shape[0]):\n",
    "        if index!=5:\n",
    "            continue\n",
    "        images = images_loaded[index][np.newaxis]\n",
    "        depths = depths_loaded[index][np.newaxis]\n",
    "        \n",
    "        # Pre process\n",
    "        images, depths = preprocess(images, depths)\n",
    "        # Infer\n",
    "        pred = scaffolder.infer(images)[0]\n",
    "\n",
    "        # Post process\n",
    "        pred = post_process_depth(pred)\n",
    "        \n",
    "        \n",
    "        cropped_depths.append(depths)\n",
    "        predictions.append(pred)\n",
    "\n",
    "        \n",
    "\n",
    "gt = np.concatenate(cropped_depths).squeeze()\n",
    "predictions = np.concatenate(predictions).squeeze()\n",
    "assert gt.shape == predictions.shape"
   ]
  },
  {
   "cell_type": "code",
   "execution_count": 55,
   "metadata": {
    "collapsed": false
   },
   "outputs": [
    {
     "name": "stdout",
     "output_type": "stream",
     "text": [
      "RMSE  0.166885\n"
     ]
    }
   ],
   "source": [
    "calculate_depth_metrics(predictions, gt)"
   ]
  },
  {
   "cell_type": "code",
   "execution_count": 57,
   "metadata": {
    "collapsed": false
   },
   "outputs": [
    {
     "name": "stdout",
     "output_type": "stream",
     "text": [
      "train\n"
     ]
    },
    {
     "data": {
      "image/png": "[encoded data removed]",
      "text/plain": [
       "<matplotlib.figure.Figure at 0x7f2f2e4a7d50>"
      ]
     },
     "metadata": {},
     "output_type": "display_data"
    },
    {
     "name": "stdout",
     "output_type": "stream",
     "text": [
      "val\n"
     ]
    },
    {
     "data": {
      "image/png": "[encoded data removed]",
      "text/plain": [
       "<matplotlib.figure.Figure at 0x7f2f402f9e10>"
      ]
     },
     "metadata": {},
     "output_type": "display_data"
    }
   ],
   "source": [
    "current_job = Job.from_name(\"f3d_depth_half_limited_f1_thesis\")\n",
    "current_job.load()\n",
    "data = current_job.data\n",
    "\n",
    "kernel_size = 1.\n",
    "\n",
    "n_epochs = 40\n",
    "if \"train_losses\" in data:    \n",
    "    print \"train\"\n",
    "    train_losses = np.array(data[\"train_losses\"]).squeeze()\n",
    "    kernel_size = 1#len(train_losses) / n_epochs\n",
    "    plt.plot(np.convolve(train_losses, np.ones((kernel_size)), mode='valid') / kernel_size)\n",
    "    plt.ylim(0.0, .4)\n",
    "    plt.show()\n",
    "\n",
    "if \"val_losses\" in data:\n",
    "    print \"val\"\n",
    "    val_losses = np.array(data[\"val_losses\"]).squeeze()\n",
    "    kernel_size = len(val_losses) / n_epochs\n",
    "    plt.plot(np.convolve(val_losses[:], np.ones((kernel_size)), mode='valid') /  kernel_size)\n",
    "    plt.ylim(0.0, .4)\n",
    "    plt.show()"
   ]
  },
  {
   "cell_type": "markdown",
   "metadata": {},
   "source": [
    "## BU Regression"
   ]
  },
  {
   "cell_type": "markdown",
   "metadata": {},
   "source": [
    "### BU Regression with GT Depth data"
   ]
  },
  {
   "cell_type": "code",
   "execution_count": 112,
   "metadata": {
    "collapsed": true
   },
   "outputs": [],
   "source": [
    "\"\"\"\n",
    "Setup\n",
    "Preprocessor, mean etc.\n",
    "\"\"\"\n",
    "from coco.architectures.regression import BURegressionScaffolder, BURegressor\n",
    "\n",
    "global mean\n",
    "mean = np.load(\"/ssd/food3d/f3d-rgbd-train.npy\")\n",
    "\n",
    "def preprocess(images, labels):\n",
    "    images = images.astype(np.float32)\n",
    "    labels = labels.astype(np.float32)\n",
    "\n",
    "    assert images.shape[0] == labels.shape[0]\n",
    "    \n",
    "    size = (228, 304)\n",
    "    \n",
    "    global mean\n",
    "\n",
    "    images, _ = normalize_images(images, labels, mean)\n",
    "    images, _ = random_crop(images, None, size, deterministic=True)\n",
    "\n",
    "    return images, labels"
   ]
  },
  {
   "cell_type": "code",
   "execution_count": 113,
   "metadata": {
    "collapsed": false
   },
   "outputs": [],
   "source": [
    "folds = [\n",
    "    (\"/data/data/bu_regressor_rgbd_f3_thesis.npz\", \"/ssd/food3d/f3d-rgbd-f3-val.hdf5\"),\n",
    "    (\"/data/data/bu_regressor_rgbd_f2_thesis.npz\", \"/ssd/food3d/f3d-rgbd-f2-val.hdf5\"),\n",
    "    (\"/data/data/bu_regressor_rgbd_f1_thesis.npz\", \"/ssd/food3d/f3d-rgbd-val.hdf5\"),\n",
    "]"
   ]
  },
  {
   "cell_type": "code",
   "execution_count": 114,
   "metadata": {
    "collapsed": false
   },
   "outputs": [
    {
     "name": "stdout",
     "output_type": "stream",
     "text": [
      "Processing fold: /ssd/food3d/f3d-rgbd-f3-val.hdf5\n"
     ]
    },
    {
     "name": "stderr",
     "output_type": "stream",
     "text": [
      "INFO:coco.nn:Number of parameters for output 'None': 23513217\n",
      "INFO:coco.nn:Loading parameters from file '/data/data/bu_regressor_rgbd_f3_thesis.npz'\n",
      "INFO:coco.nn:Compiling inference function.\n"
     ]
    },
    {
     "name": "stdout",
     "output_type": "stream",
     "text": [
      "Processing fold: /ssd/food3d/f3d-rgbd-f2-val.hdf5\n"
     ]
    },
    {
     "name": "stderr",
     "output_type": "stream",
     "text": [
      "INFO:coco.nn:Number of parameters for output 'None': 23513217\n",
      "INFO:coco.nn:Loading parameters from file '/data/data/bu_regressor_rgbd_f2_thesis.npz'\n",
      "INFO:coco.nn:Compiling inference function.\n"
     ]
    },
    {
     "name": "stdout",
     "output_type": "stream",
     "text": [
      "Processing fold: /ssd/food3d/f3d-rgbd-val.hdf5\n"
     ]
    },
    {
     "name": "stderr",
     "output_type": "stream",
     "text": [
      "INFO:coco.nn:Number of parameters for output 'None': 23513217\n",
      "INFO:coco.nn:Loading parameters from file '/data/data/bu_regressor_rgbd_f1_thesis.npz'\n",
      "INFO:coco.nn:Compiling inference function.\n"
     ]
    }
   ],
   "source": [
    "original_bus = []\n",
    "predictions = []\n",
    "\n",
    "for model, db in folds:\n",
    "    f = h5py.File(db)\n",
    "    print \"Processing fold: %s\" % db\n",
    "    scaffolder = BURegressionScaffolder(BURegressor, \n",
    "                                           inference=True,\n",
    "                                           with_depth=True)\n",
    "    scaffolder.load(model)\n",
    "    scaffolder.compile()\n",
    "    \n",
    "    images_orig = np.array(f[\"rgbd\"])\n",
    "    bus_orig = np.array(f[\"bus\"])\n",
    "    \n",
    "    for index in range(images_orig.shape[0]):\n",
    "        images = images_orig[index][np.newaxis]\n",
    "        bus = bus_orig[index][np.newaxis]\n",
    "        \n",
    "        # Pre process\n",
    "        images, bus = preprocess(images, bus)\n",
    "        # Infer\n",
    "        pred = scaffolder.infer(images)[0]\n",
    "\n",
    "        original_bus.append(bus)\n",
    "        predictions.append(pred)\n",
    "\n",
    "gt = np.concatenate(original_bus).squeeze()\n",
    "predictions = np.concatenate(predictions).squeeze()\n",
    "\n",
    "assert gt.shape == predictions.shape"
   ]
  },
  {
   "cell_type": "code",
   "execution_count": 115,
   "metadata": {
    "collapsed": false
   },
   "outputs": [
    {
     "name": "stdout",
     "output_type": "stream",
     "text": [
      "(8820,)\n",
      "RMSE  1.49719\n"
     ]
    }
   ],
   "source": [
    "calculate_bu_metrics(predictions, gt)"
   ]
  },
  {
   "cell_type": "markdown",
   "metadata": {},
   "source": [
    "### BU Regression with inferred depth"
   ]
  },
  {
   "cell_type": "code",
   "execution_count": null,
   "metadata": {
    "collapsed": true
   },
   "outputs": [],
   "source": [
    "\"\"\"\n",
    "Setup\n",
    "Preprocessor, mean etc.\n",
    "\"\"\"\n",
    "from coco.architectures.regression import BURegressionScaffolder, BURegressor\n",
    "\n",
    "global mean\n",
    "mean = np.load(\"/ssd/food3d/f3d-rgbd-infer-train.npy\")\n",
    "\n",
    "def preprocess(images, labels):\n",
    "    images = images.astype(np.float32)\n",
    "    labels = labels.astype(np.float32)\n",
    "\n",
    "    assert images.shape[0] == labels.shape[0]\n",
    "    \n",
    "    size = (228, 304)\n",
    "    \n",
    "    global mean\n",
    "\n",
    "    images, _ = normalize_images(images, labels, mean)\n",
    "    images, _ = random_crop(images, None, size, deterministic=True)\n",
    "\n",
    "    return images, labels"
   ]
  },
  {
   "cell_type": "code",
   "execution_count": 116,
   "metadata": {
    "collapsed": true
   },
   "outputs": [],
   "source": [
    "folds = [\n",
    "    (\"/data/data/bu_regressor_rgbd_infer_f3_thesis.npz\", \"/ssd/food3d/f3d-rgbd-f3-crossval-infer-val.hdf5\"),\n",
    "    (\"/data/data/bu_regressor_rgbd_infer_f2_thesis.npz\", \"/ssd/food3d/f3d-rgbd-f2-crossval-infer-val.hdf5\"),\n",
    "    (\"/data/data/bu_regressor_rgbd_infer_f1_thesis.npz\", \"/ssd/food3d/f3d-rgbd-crossval-infer-val.hdf5\"),\n",
    "]"
   ]
  },
  {
   "cell_type": "code",
   "execution_count": 117,
   "metadata": {
    "collapsed": false,
    "scrolled": false
   },
   "outputs": [
    {
     "name": "stdout",
     "output_type": "stream",
     "text": [
      "Processing fold: /ssd/food3d/f3d-rgbd-f3-crossval-infer-val.hdf5\n"
     ]
    },
    {
     "name": "stderr",
     "output_type": "stream",
     "text": [
      "INFO:coco.nn:Number of parameters for output 'None': 23513217\n",
      "INFO:coco.nn:Loading parameters from file '/data/data/bu_regressor_rgbd_infer_f3_thesis.npz'\n",
      "INFO:coco.nn:Compiling inference function.\n"
     ]
    },
    {
     "name": "stdout",
     "output_type": "stream",
     "text": [
      "Processing fold: /ssd/food3d/f3d-rgbd-f2-crossval-infer-val.hdf5\n"
     ]
    },
    {
     "name": "stderr",
     "output_type": "stream",
     "text": [
      "INFO:coco.nn:Number of parameters for output 'None': 23513217\n",
      "INFO:coco.nn:Loading parameters from file '/data/data/bu_regressor_rgbd_infer_f2_thesis.npz'\n",
      "INFO:coco.nn:Compiling inference function.\n"
     ]
    },
    {
     "name": "stdout",
     "output_type": "stream",
     "text": [
      "Processing fold: /ssd/food3d/f3d-rgbd-crossval-infer-val.hdf5\n"
     ]
    },
    {
     "name": "stderr",
     "output_type": "stream",
     "text": [
      "INFO:coco.nn:Number of parameters for output 'None': 23513217\n",
      "INFO:coco.nn:Loading parameters from file '/data/data/bu_regressor_rgbd_infer_f1_thesis.npz'\n",
      "INFO:coco.nn:Compiling inference function.\n"
     ]
    }
   ],
   "source": [
    "original_bus = []\n",
    "predictions = []\n",
    "\n",
    "for model, db in folds:\n",
    "    f = h5py.File(db)\n",
    "    print \"Processing fold: %s\" % db\n",
    "    scaffolder = BURegressionScaffolder(BURegressor, \n",
    "                                           inference=True,\n",
    "                                           with_depth=True)\n",
    "    scaffolder.load(model)\n",
    "    scaffolder.compile()\n",
    "    \n",
    "    images_orig = np.array(f[\"rgbd\"])\n",
    "    bus_orig = np.array(f[\"bus\"])\n",
    "    \n",
    "    for index in range(images_orig.shape[0]):\n",
    "        images = images_orig[index][np.newaxis]\n",
    "        bus = bus_orig[index][np.newaxis]\n",
    "        \n",
    "        # Pre process\n",
    "        images, bus = preprocess(images, bus)\n",
    "        # Infer\n",
    "        pred = scaffolder.infer(images)[0]\n",
    "\n",
    "        original_bus.append(bus)\n",
    "        predictions.append(pred)\n",
    "\n",
    "gt = np.concatenate(original_bus).squeeze()\n",
    "predictions = np.concatenate(predictions).squeeze()\n",
    "\n",
    "assert gt.shape == predictions.shape"
   ]
  },
  {
   "cell_type": "code",
   "execution_count": 119,
   "metadata": {
    "collapsed": false
   },
   "outputs": [
    {
     "name": "stdout",
     "output_type": "stream",
     "text": [
      "RMSE  1.46813\n"
     ]
    }
   ],
   "source": [
    "calculate_bu_metrics(predictions, gt)"
   ]
  },
  {
   "cell_type": "markdown",
   "metadata": {},
   "source": [
    "### BU Regression RGB only"
   ]
  },
  {
   "cell_type": "code",
   "execution_count": 123,
   "metadata": {
    "collapsed": true
   },
   "outputs": [],
   "source": [
    "global mean\n",
    "mean = np.load(\"/ssd/food3d/f3d-train.npy\")\n",
    "\n",
    "def preprocess(images, labels):\n",
    "    images = images.astype(np.float32)\n",
    "    images = images[:,0:3,:,:]\n",
    "    labels = labels.astype(np.float32)\n",
    "\n",
    "    assert images.shape[0] == labels.shape[0]\n",
    "\n",
    "    size = (228, 304)\n",
    "    \n",
    "    global mean\n",
    "    \n",
    "    images, _ = normalize_images(images, labels, mean)\n",
    "    images, _ = random_crop(images, None, size)\n",
    "    \n",
    "    return images, labels"
   ]
  },
  {
   "cell_type": "code",
   "execution_count": 128,
   "metadata": {
    "collapsed": true
   },
   "outputs": [],
   "source": [
    "folds = [\n",
    "    (\"/data/data/bu_regressor_rgb_only_f3_thesis.npz\", \"/ssd/food3d/f3d-rgbd-f3-val.hdf5\"),\n",
    "    (\"/data/data/bu_regressor_rgb_only_f2_thesis.npz\", \"/ssd/food3d/f3d-rgbd-f2-val.hdf5\"),\n",
    "    (\"/data/data/bu_regressor_rgb_only_f1_thesis.npz\", \"/ssd/food3d/f3d-rgbd-val.hdf5\"),\n",
    "]"
   ]
  },
  {
   "cell_type": "code",
   "execution_count": 129,
   "metadata": {
    "collapsed": false
   },
   "outputs": [
    {
     "name": "stdout",
     "output_type": "stream",
     "text": [
      "Processing fold: /ssd/food3d/f3d-rgbd-f3-val.hdf5\n"
     ]
    },
    {
     "name": "stderr",
     "output_type": "stream",
     "text": [
      "INFO:coco.nn:Number of parameters for output 'None': 23510081\n",
      "INFO:coco.nn:Loading parameters from file '/data/data/bu_regressor_rgb_only_f3_thesis.npz'\n",
      "INFO:coco.nn:Compiling inference function.\n"
     ]
    },
    {
     "name": "stdout",
     "output_type": "stream",
     "text": [
      "Processing fold: /ssd/food3d/f3d-rgbd-f2-val.hdf5\n"
     ]
    },
    {
     "name": "stderr",
     "output_type": "stream",
     "text": [
      "INFO:coco.nn:Number of parameters for output 'None': 23510081\n",
      "INFO:coco.nn:Loading parameters from file '/data/data/bu_regressor_rgb_only_f2_thesis.npz'\n",
      "INFO:coco.nn:Compiling inference function.\n"
     ]
    },
    {
     "name": "stdout",
     "output_type": "stream",
     "text": [
      "Processing fold: /ssd/food3d/f3d-rgbd-val.hdf5\n"
     ]
    },
    {
     "name": "stderr",
     "output_type": "stream",
     "text": [
      "INFO:coco.nn:Number of parameters for output 'None': 23510081\n",
      "INFO:coco.nn:Loading parameters from file '/data/data/bu_regressor_rgb_only_f1_thesis.npz'\n",
      "INFO:coco.nn:Compiling inference function.\n"
     ]
    }
   ],
   "source": [
    "original_bus = []\n",
    "predictions = []\n",
    "\n",
    "for model, db in folds:\n",
    "    f = h5py.File(db)\n",
    "    print \"Processing fold: %s\" % db\n",
    "    scaffolder = BURegressionScaffolder(BURegressor, \n",
    "                                           inference=True,\n",
    "                                           with_depth=False)\n",
    "    scaffolder.load(model)\n",
    "    scaffolder.compile()\n",
    "    \n",
    "    images_orig = np.array(f[\"rgbd\"])\n",
    "    bus_orig = np.array(f[\"bus\"])\n",
    "    \n",
    "    for index in range(images_orig.shape[0]):\n",
    "        images = images_orig[index][np.newaxis]\n",
    "        bus = bus_orig[index][np.newaxis]\n",
    "        \n",
    "        # Pre process\n",
    "        images, bus = preprocess(images, bus)\n",
    "        # Infer\n",
    "        pred = scaffolder.infer(images)[0]\n",
    "\n",
    "        original_bus.append(bus)\n",
    "        predictions.append(pred)\n",
    "\n",
    "gt = np.concatenate(original_bus).squeeze()\n",
    "predictions = np.concatenate(predictions).squeeze()\n",
    "\n",
    "assert gt.shape == predictions.shape"
   ]
  },
  {
   "cell_type": "code",
   "execution_count": 130,
   "metadata": {
    "collapsed": false
   },
   "outputs": [
    {
     "name": "stdout",
     "output_type": "stream",
     "text": [
      "RMSE  1.44084\n"
     ]
    }
   ],
   "source": [
    "calculate_bu_metrics(predictions, gt)"
   ]
  },
  {
   "cell_type": "markdown",
   "metadata": {},
   "source": [
    "# Supplementary code, run this first"
   ]
  },
  {
   "cell_type": "code",
   "execution_count": 1,
   "metadata": {
    "collapsed": true
   },
   "outputs": [],
   "source": [
    "\"\"\"\n",
    "Get coco lib in here\n",
    "\"\"\"\n",
    "import sys\n",
    "import os\n",
    "import inspect\n",
    "import h5py\n",
    "currentdir = os.path.dirname(os.path.abspath(\n",
    "    inspect.getfile(inspect.currentframe())))\n",
    "parentdir = os.path.dirname(currentdir)\n",
    "sys.path.insert(0, parentdir)\n",
    "\n"
   ]
  },
  {
   "cell_type": "code",
   "execution_count": 2,
   "metadata": {
    "collapsed": true
   },
   "outputs": [],
   "source": [
    "from coco.job import Job\n",
    "Job.set_job_dir(\"/data/coco-jobs-relocated\")"
   ]
  },
  {
   "cell_type": "code",
   "execution_count": 3,
   "metadata": {
    "collapsed": false
   },
   "outputs": [],
   "source": [
    "\"\"\"\n",
    "Matplotlib and stuff\n",
    "\"\"\"\n",
    "%matplotlib inline\n",
    "import matplotlib.pyplot as plt\n",
    "plt.style.use(\"ggplot\")\n",
    "import numpy as np\n",
    "import time"
   ]
  },
  {
   "cell_type": "code",
   "execution_count": 10,
   "metadata": {
    "collapsed": true
   },
   "outputs": [],
   "source": [
    "def rmse(prediction, gt):\n",
    "    d = gt - prediction\n",
    "    rmse = np.sqrt((d**2).mean())\n",
    "    return rmse"
   ]
  },
  {
   "cell_type": "code",
   "execution_count": 11,
   "metadata": {
    "collapsed": true
   },
   "outputs": [],
   "source": [
    "def post_process_depth(depth):\n",
    "    upper = np.percentile(depth, 99)\n",
    "    lower = np.percentile(depth, 1)\n",
    "    depth = depth.clip(lower, upper)\n",
    "    return depth"
   ]
  },
  {
   "cell_type": "code",
   "execution_count": 77,
   "metadata": {
    "collapsed": true
   },
   "outputs": [],
   "source": [
    "def calculate_depth_metrics(pred, gt):\n",
    "    assert pred.shape == gt.shape\n",
    "    r = rmse(pred, gt)\n",
    "    print \"RMSE \", r\n",
    "    \n",
    "    \n",
    "    \n",
    "def calculate_bu_metrics(pred, gt):\n",
    "    assert pred.shape == gt.shape\n",
    "    r = rmse(pred, gt)\n",
    "    print \"RMSE \", r"
   ]
  },
  {
   "cell_type": "code",
   "execution_count": null,
   "metadata": {
    "collapsed": true
   },
   "outputs": [],
   "source": []
  }
 ],
 "metadata": {
  "kernelspec": {
   "display_name": "Python 2",
   "language": "python",
   "name": "python2"
  },
  "language_info": {
   "codemirror_mode": {
    "name": "ipython",
    "version": 2
   },
   "file_extension": ".py",
   "mimetype": "text/x-python",
   "name": "python",
   "nbconvert_exporter": "python",
   "pygments_lexer": "ipython2",
   "version": "2.7.6"
  }
 },
 "nbformat": 4,
 "nbformat_minor": 1
}
